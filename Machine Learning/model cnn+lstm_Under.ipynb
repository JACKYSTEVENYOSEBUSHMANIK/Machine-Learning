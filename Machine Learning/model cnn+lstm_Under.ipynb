{
 "cells": [
  {
   "cell_type": "code",
   "execution_count": 1,
   "id": "76d5e74f-bea3-4250-bb96-02bdefd05a92",
   "metadata": {},
   "outputs": [
    {
     "name": "stderr",
     "output_type": "stream",
     "text": [
      "C:\\Users\\USER\\anaconda3\\Lib\\site-packages\\keras\\src\\layers\\convolutional\\base_conv.py:107: UserWarning: Do not pass an `input_shape`/`input_dim` argument to a layer. When using Sequential models, prefer using an `Input(shape)` object as the first layer in the model instead.\n",
      "  super().__init__(activity_regularizer=activity_regularizer, **kwargs)\n"
     ]
    },
    {
     "data": {
      "text/html": [
       "<pre style=\"white-space:pre;overflow-x:auto;line-height:normal;font-family:Menlo,'DejaVu Sans Mono',consolas,'Courier New',monospace\"><span style=\"font-weight: bold\">Model: \"sequential\"</span>\n",
       "</pre>\n"
      ],
      "text/plain": [
       "\u001b[1mModel: \"sequential\"\u001b[0m\n"
      ]
     },
     "metadata": {},
     "output_type": "display_data"
    },
    {
     "data": {
      "text/html": [
       "<pre style=\"white-space:pre;overflow-x:auto;line-height:normal;font-family:Menlo,'DejaVu Sans Mono',consolas,'Courier New',monospace\">┏━━━━━━━━━━━━━━━━━━━━━━━━━━━━━━━━━━━━━━┳━━━━━━━━━━━━━━━━━━━━━━━━━━━━━┳━━━━━━━━━━━━━━━━━┓\n",
       "┃<span style=\"font-weight: bold\"> Layer (type)                         </span>┃<span style=\"font-weight: bold\"> Output Shape                </span>┃<span style=\"font-weight: bold\">         Param # </span>┃\n",
       "┡━━━━━━━━━━━━━━━━━━━━━━━━━━━━━━━━━━━━━━╇━━━━━━━━━━━━━━━━━━━━━━━━━━━━━╇━━━━━━━━━━━━━━━━━┩\n",
       "│ conv1d (<span style=\"color: #0087ff; text-decoration-color: #0087ff\">Conv1D</span>)                      │ (<span style=\"color: #00d7ff; text-decoration-color: #00d7ff\">None</span>, <span style=\"color: #00af00; text-decoration-color: #00af00\">96</span>, <span style=\"color: #00af00; text-decoration-color: #00af00\">128</span>)             │           <span style=\"color: #00af00; text-decoration-color: #00af00\">3,968</span> │\n",
       "├──────────────────────────────────────┼─────────────────────────────┼─────────────────┤\n",
       "│ max_pooling1d (<span style=\"color: #0087ff; text-decoration-color: #0087ff\">MaxPooling1D</span>)         │ (<span style=\"color: #00d7ff; text-decoration-color: #00d7ff\">None</span>, <span style=\"color: #00af00; text-decoration-color: #00af00\">48</span>, <span style=\"color: #00af00; text-decoration-color: #00af00\">128</span>)             │               <span style=\"color: #00af00; text-decoration-color: #00af00\">0</span> │\n",
       "├──────────────────────────────────────┼─────────────────────────────┼─────────────────┤\n",
       "│ lstm (<span style=\"color: #0087ff; text-decoration-color: #0087ff\">LSTM</span>)                          │ (<span style=\"color: #00d7ff; text-decoration-color: #00d7ff\">None</span>, <span style=\"color: #00af00; text-decoration-color: #00af00\">64</span>)                  │          <span style=\"color: #00af00; text-decoration-color: #00af00\">49,408</span> │\n",
       "├──────────────────────────────────────┼─────────────────────────────┼─────────────────┤\n",
       "│ dropout (<span style=\"color: #0087ff; text-decoration-color: #0087ff\">Dropout</span>)                    │ (<span style=\"color: #00d7ff; text-decoration-color: #00d7ff\">None</span>, <span style=\"color: #00af00; text-decoration-color: #00af00\">64</span>)                  │               <span style=\"color: #00af00; text-decoration-color: #00af00\">0</span> │\n",
       "├──────────────────────────────────────┼─────────────────────────────┼─────────────────┤\n",
       "│ dense (<span style=\"color: #0087ff; text-decoration-color: #0087ff\">Dense</span>)                        │ (<span style=\"color: #00d7ff; text-decoration-color: #00d7ff\">None</span>, <span style=\"color: #00af00; text-decoration-color: #00af00\">64</span>)                  │           <span style=\"color: #00af00; text-decoration-color: #00af00\">4,160</span> │\n",
       "├──────────────────────────────────────┼─────────────────────────────┼─────────────────┤\n",
       "│ dropout_1 (<span style=\"color: #0087ff; text-decoration-color: #0087ff\">Dropout</span>)                  │ (<span style=\"color: #00d7ff; text-decoration-color: #00d7ff\">None</span>, <span style=\"color: #00af00; text-decoration-color: #00af00\">64</span>)                  │               <span style=\"color: #00af00; text-decoration-color: #00af00\">0</span> │\n",
       "├──────────────────────────────────────┼─────────────────────────────┼─────────────────┤\n",
       "│ dense_1 (<span style=\"color: #0087ff; text-decoration-color: #0087ff\">Dense</span>)                      │ (<span style=\"color: #00d7ff; text-decoration-color: #00d7ff\">None</span>, <span style=\"color: #00af00; text-decoration-color: #00af00\">3</span>)                   │             <span style=\"color: #00af00; text-decoration-color: #00af00\">195</span> │\n",
       "└──────────────────────────────────────┴─────────────────────────────┴─────────────────┘\n",
       "</pre>\n"
      ],
      "text/plain": [
       "┏━━━━━━━━━━━━━━━━━━━━━━━━━━━━━━━━━━━━━━┳━━━━━━━━━━━━━━━━━━━━━━━━━━━━━┳━━━━━━━━━━━━━━━━━┓\n",
       "┃\u001b[1m \u001b[0m\u001b[1mLayer (type)                        \u001b[0m\u001b[1m \u001b[0m┃\u001b[1m \u001b[0m\u001b[1mOutput Shape               \u001b[0m\u001b[1m \u001b[0m┃\u001b[1m \u001b[0m\u001b[1m        Param #\u001b[0m\u001b[1m \u001b[0m┃\n",
       "┡━━━━━━━━━━━━━━━━━━━━━━━━━━━━━━━━━━━━━━╇━━━━━━━━━━━━━━━━━━━━━━━━━━━━━╇━━━━━━━━━━━━━━━━━┩\n",
       "│ conv1d (\u001b[38;5;33mConv1D\u001b[0m)                      │ (\u001b[38;5;45mNone\u001b[0m, \u001b[38;5;34m96\u001b[0m, \u001b[38;5;34m128\u001b[0m)             │           \u001b[38;5;34m3,968\u001b[0m │\n",
       "├──────────────────────────────────────┼─────────────────────────────┼─────────────────┤\n",
       "│ max_pooling1d (\u001b[38;5;33mMaxPooling1D\u001b[0m)         │ (\u001b[38;5;45mNone\u001b[0m, \u001b[38;5;34m48\u001b[0m, \u001b[38;5;34m128\u001b[0m)             │               \u001b[38;5;34m0\u001b[0m │\n",
       "├──────────────────────────────────────┼─────────────────────────────┼─────────────────┤\n",
       "│ lstm (\u001b[38;5;33mLSTM\u001b[0m)                          │ (\u001b[38;5;45mNone\u001b[0m, \u001b[38;5;34m64\u001b[0m)                  │          \u001b[38;5;34m49,408\u001b[0m │\n",
       "├──────────────────────────────────────┼─────────────────────────────┼─────────────────┤\n",
       "│ dropout (\u001b[38;5;33mDropout\u001b[0m)                    │ (\u001b[38;5;45mNone\u001b[0m, \u001b[38;5;34m64\u001b[0m)                  │               \u001b[38;5;34m0\u001b[0m │\n",
       "├──────────────────────────────────────┼─────────────────────────────┼─────────────────┤\n",
       "│ dense (\u001b[38;5;33mDense\u001b[0m)                        │ (\u001b[38;5;45mNone\u001b[0m, \u001b[38;5;34m64\u001b[0m)                  │           \u001b[38;5;34m4,160\u001b[0m │\n",
       "├──────────────────────────────────────┼─────────────────────────────┼─────────────────┤\n",
       "│ dropout_1 (\u001b[38;5;33mDropout\u001b[0m)                  │ (\u001b[38;5;45mNone\u001b[0m, \u001b[38;5;34m64\u001b[0m)                  │               \u001b[38;5;34m0\u001b[0m │\n",
       "├──────────────────────────────────────┼─────────────────────────────┼─────────────────┤\n",
       "│ dense_1 (\u001b[38;5;33mDense\u001b[0m)                      │ (\u001b[38;5;45mNone\u001b[0m, \u001b[38;5;34m3\u001b[0m)                   │             \u001b[38;5;34m195\u001b[0m │\n",
       "└──────────────────────────────────────┴─────────────────────────────┴─────────────────┘\n"
      ]
     },
     "metadata": {},
     "output_type": "display_data"
    },
    {
     "data": {
      "text/html": [
       "<pre style=\"white-space:pre;overflow-x:auto;line-height:normal;font-family:Menlo,'DejaVu Sans Mono',consolas,'Courier New',monospace\"><span style=\"font-weight: bold\"> Total params: </span><span style=\"color: #00af00; text-decoration-color: #00af00\">57,731</span> (225.51 KB)\n",
       "</pre>\n"
      ],
      "text/plain": [
       "\u001b[1m Total params: \u001b[0m\u001b[38;5;34m57,731\u001b[0m (225.51 KB)\n"
      ]
     },
     "metadata": {},
     "output_type": "display_data"
    },
    {
     "data": {
      "text/html": [
       "<pre style=\"white-space:pre;overflow-x:auto;line-height:normal;font-family:Menlo,'DejaVu Sans Mono',consolas,'Courier New',monospace\"><span style=\"font-weight: bold\"> Trainable params: </span><span style=\"color: #00af00; text-decoration-color: #00af00\">57,731</span> (225.51 KB)\n",
       "</pre>\n"
      ],
      "text/plain": [
       "\u001b[1m Trainable params: \u001b[0m\u001b[38;5;34m57,731\u001b[0m (225.51 KB)\n"
      ]
     },
     "metadata": {},
     "output_type": "display_data"
    },
    {
     "data": {
      "text/html": [
       "<pre style=\"white-space:pre;overflow-x:auto;line-height:normal;font-family:Menlo,'DejaVu Sans Mono',consolas,'Courier New',monospace\"><span style=\"font-weight: bold\"> Non-trainable params: </span><span style=\"color: #00af00; text-decoration-color: #00af00\">0</span> (0.00 B)\n",
       "</pre>\n"
      ],
      "text/plain": [
       "\u001b[1m Non-trainable params: \u001b[0m\u001b[38;5;34m0\u001b[0m (0.00 B)\n"
      ]
     },
     "metadata": {},
     "output_type": "display_data"
    },
    {
     "name": "stdout",
     "output_type": "stream",
     "text": [
      "Epoch 1/50\n",
      "\u001b[1m7/7\u001b[0m \u001b[32m━━━━━━━━━━━━━━━━━━━━\u001b[0m\u001b[37m\u001b[0m \u001b[1m8s\u001b[0m 225ms/step - accuracy: 0.4774 - loss: 0.9769 - val_accuracy: 0.9182 - val_loss: 0.8176\n",
      "Epoch 2/50\n",
      "\u001b[1m7/7\u001b[0m \u001b[32m━━━━━━━━━━━━━━━━━━━━\u001b[0m\u001b[37m\u001b[0m \u001b[1m1s\u001b[0m 92ms/step - accuracy: 0.8065 - loss: 0.6404 - val_accuracy: 0.9273 - val_loss: 0.5129\n",
      "Epoch 3/50\n",
      "\u001b[1m7/7\u001b[0m \u001b[32m━━━━━━━━━━━━━━━━━━━━\u001b[0m\u001b[37m\u001b[0m \u001b[1m1s\u001b[0m 78ms/step - accuracy: 0.9581 - loss: 0.3571 - val_accuracy: 0.9455 - val_loss: 0.2861\n",
      "Epoch 4/50\n",
      "\u001b[1m7/7\u001b[0m \u001b[32m━━━━━━━━━━━━━━━━━━━━\u001b[0m\u001b[37m\u001b[0m \u001b[1m1s\u001b[0m 76ms/step - accuracy: 0.9970 - loss: 0.1602 - val_accuracy: 0.9636 - val_loss: 0.2080\n",
      "Epoch 5/50\n",
      "\u001b[1m7/7\u001b[0m \u001b[32m━━━━━━━━━━━━━━━━━━━━\u001b[0m\u001b[37m\u001b[0m \u001b[1m1s\u001b[0m 78ms/step - accuracy: 0.9948 - loss: 0.0839 - val_accuracy: 0.9727 - val_loss: 0.1757\n",
      "Epoch 6/50\n",
      "\u001b[1m7/7\u001b[0m \u001b[32m━━━━━━━━━━━━━━━━━━━━\u001b[0m\u001b[37m\u001b[0m \u001b[1m1s\u001b[0m 77ms/step - accuracy: 0.9966 - loss: 0.0452 - val_accuracy: 0.9727 - val_loss: 0.1744\n",
      "Epoch 7/50\n",
      "\u001b[1m7/7\u001b[0m \u001b[32m━━━━━━━━━━━━━━━━━━━━\u001b[0m\u001b[37m\u001b[0m \u001b[1m0s\u001b[0m 65ms/step - accuracy: 1.0000 - loss: 0.0193 - val_accuracy: 0.9727 - val_loss: 0.1866\n",
      "Epoch 8/50\n",
      "\u001b[1m7/7\u001b[0m \u001b[32m━━━━━━━━━━━━━━━━━━━━\u001b[0m\u001b[37m\u001b[0m \u001b[1m1s\u001b[0m 75ms/step - accuracy: 1.0000 - loss: 0.0141 - val_accuracy: 0.9727 - val_loss: 0.1984\n",
      "Epoch 9/50\n",
      "\u001b[1m7/7\u001b[0m \u001b[32m━━━━━━━━━━━━━━━━━━━━\u001b[0m\u001b[37m\u001b[0m \u001b[1m1s\u001b[0m 70ms/step - accuracy: 1.0000 - loss: 0.0111 - val_accuracy: 0.9727 - val_loss: 0.2089\n",
      "Epoch 10/50\n",
      "\u001b[1m7/7\u001b[0m \u001b[32m━━━━━━━━━━━━━━━━━━━━\u001b[0m\u001b[37m\u001b[0m \u001b[1m0s\u001b[0m 66ms/step - accuracy: 1.0000 - loss: 0.0091 - val_accuracy: 0.9727 - val_loss: 0.2156\n",
      "Epoch 11/50\n",
      "\u001b[1m7/7\u001b[0m \u001b[32m━━━━━━━━━━━━━━━━━━━━\u001b[0m\u001b[37m\u001b[0m \u001b[1m0s\u001b[0m 66ms/step - accuracy: 1.0000 - loss: 0.0071 - val_accuracy: 0.9727 - val_loss: 0.2213\n",
      "Epoch 12/50\n",
      "\u001b[1m7/7\u001b[0m \u001b[32m━━━━━━━━━━━━━━━━━━━━\u001b[0m\u001b[37m\u001b[0m \u001b[1m0s\u001b[0m 65ms/step - accuracy: 1.0000 - loss: 0.0042 - val_accuracy: 0.9727 - val_loss: 0.2265\n",
      "Epoch 13/50\n",
      "\u001b[1m7/7\u001b[0m \u001b[32m━━━━━━━━━━━━━━━━━━━━\u001b[0m\u001b[37m\u001b[0m \u001b[1m0s\u001b[0m 66ms/step - accuracy: 1.0000 - loss: 0.0058 - val_accuracy: 0.9727 - val_loss: 0.2321\n",
      "Epoch 14/50\n",
      "\u001b[1m7/7\u001b[0m \u001b[32m━━━━━━━━━━━━━━━━━━━━\u001b[0m\u001b[37m\u001b[0m \u001b[1m0s\u001b[0m 67ms/step - accuracy: 1.0000 - loss: 0.0042 - val_accuracy: 0.9727 - val_loss: 0.2372\n",
      "Epoch 15/50\n",
      "\u001b[1m7/7\u001b[0m \u001b[32m━━━━━━━━━━━━━━━━━━━━\u001b[0m\u001b[37m\u001b[0m \u001b[1m0s\u001b[0m 66ms/step - accuracy: 1.0000 - loss: 0.0036 - val_accuracy: 0.9727 - val_loss: 0.2420\n",
      "Epoch 16/50\n",
      "\u001b[1m7/7\u001b[0m \u001b[32m━━━━━━━━━━━━━━━━━━━━\u001b[0m\u001b[37m\u001b[0m \u001b[1m0s\u001b[0m 66ms/step - accuracy: 1.0000 - loss: 0.0041 - val_accuracy: 0.9727 - val_loss: 0.2466\n"
     ]
    },
    {
     "data": {
      "image/png": "[encoded data removed]",
      "text/plain": [
       "<Figure size 1200x400 with 2 Axes>"
      ]
     },
     "metadata": {},
     "output_type": "display_data"
    },
    {
     "name": "stdout",
     "output_type": "stream",
     "text": [
      "\u001b[1m5/5\u001b[0m \u001b[32m━━━━━━━━━━━━━━━━━━━━\u001b[0m\u001b[37m\u001b[0m \u001b[1m1s\u001b[0m 131ms/step\n",
      "=== Classification Report ===\n",
      "              precision    recall  f1-score   support\n",
      "\n",
      "        diri       1.00      1.00      1.00        48\n",
      "       duduk       0.98      1.00      0.99        46\n",
      "       tidur       1.00      0.98      0.99        47\n",
      "\n",
      "    accuracy                           0.99       141\n",
      "   macro avg       0.99      0.99      0.99       141\n",
      "weighted avg       0.99      0.99      0.99       141\n",
      "\n"
     ]
    },
    {
     "data": {
      "image/png": "[encoded data removed]",
      "text/plain": [
       "<Figure size 800x600 with 2 Axes>"
      ]
     },
     "metadata": {},
     "output_type": "display_data"
    }
   ],
   "source": [
    "import pandas as pd\n",
    "import numpy as np\n",
    "import matplotlib.pyplot as plt\n",
    "import seaborn as sns\n",
    "\n",
    "from sklearn.preprocessing import LabelEncoder, StandardScaler\n",
    "from sklearn.model_selection import train_test_split\n",
    "from sklearn.metrics import classification_report, confusion_matrix\n",
    "from sklearn.utils.class_weight import compute_class_weight\n",
    "\n",
    "from tensorflow.keras.models import Sequential\n",
    "from tensorflow.keras.layers import LSTM, Dense, Dropout, Conv1D, MaxPooling1D\n",
    "from tensorflow.keras.utils import to_categorical\n",
    "\n",
    "\n",
    "from imblearn.under_sampling import RandomUnderSampler\n",
    "from scipy.stats import mode\n",
    "\n",
    "import tensorflow as tf\n",
    "from tensorflow.keras.layers import Layer\n",
    "import tensorflow.keras.backend as K\n",
    "\n",
    "# --- 1. Load data ---\n",
    "df = pd.read_csv('data_3aktv.csv')\n",
    "\n",
    "# --- 2. Tidak menggunakan magnitudo ---\n",
    "features = ['acc_x', 'acc_y', 'acc_z', 'gyro_x', 'gyro_y', 'gyro_z']\n",
    "\n",
    "# --- 3. Label Encoding ---\n",
    "label_encoder = LabelEncoder()\n",
    "df['encoded_activity'] = label_encoder.fit_transform(df['activity'])\n",
    "\n",
    "X = df[features].values\n",
    "y_encoded = df['encoded_activity'].values\n",
    "\n",
    "# --- 4. Sliding Window ---\n",
    "def create_windows(X, y, window_size=100, step=50):\n",
    "    Xs, ys = [], []\n",
    "    for start in range(0, len(X) - window_size + 1, step):\n",
    "        end = start + window_size\n",
    "        Xs.append(X[start:end])\n",
    "        window_labels = y[start:end]\n",
    "        counts = np.bincount(window_labels)\n",
    "        ys.append(np.argmax(counts))\n",
    "    return np.array(Xs), np.array(ys)\n",
    "\n",
    "\n",
    "X_windows, y_windows = create_windows(X, y_encoded)\n",
    "\n",
    "# --- 5. Split data sebelum normalisasi dan balancing ---\n",
    "X_train, X_test, y_train, y_test = train_test_split(\n",
    "    X_windows, y_windows, test_size=0.2, stratify=y_windows, random_state=42\n",
    ")\n",
    "\n",
    "# --- 6. Normalisasi ---\n",
    "scaler = StandardScaler()\n",
    "\n",
    "# reshape ke 2D untuk fit scaler\n",
    "X_train_shape = X_train.shape\n",
    "X_train_2d = X_train.reshape(-1, X_train_shape[2])\n",
    "X_train_2d = scaler.fit_transform(X_train_2d)\n",
    "X_train = X_train_2d.reshape(X_train_shape)\n",
    "\n",
    "X_test_shape = X_test.shape\n",
    "X_test_2d = X_test.reshape(-1, X_test_shape[2])\n",
    "X_test_2d = scaler.transform(X_test_2d)\n",
    "X_test = X_test_2d.reshape(X_test_shape)\n",
    "\n",
    "# --- 7. Undersampling pada data train ---\n",
    "X_train_flat = X_train.reshape((X_train.shape[0], -1))  # [samples, features]\n",
    "undersampler = RandomUnderSampler(random_state=42)\n",
    "X_train_resampled, y_train_resampled = undersampler.fit_resample(X_train_flat, y_train)\n",
    "X_train_resampled = X_train_resampled.reshape((-1, X_train_shape[1], X_train_shape[2]))  # [samples, timesteps, features]\n",
    "\n",
    "\n",
    "# --- 8. One-hot encoding label ---\n",
    "num_classes = len(np.unique(y_train_resampled))\n",
    "y_train_cat = to_categorical(y_train_resampled, num_classes=num_classes)\n",
    "y_test_cat = to_categorical(y_test, num_classes=num_classes)\n",
    "\n",
    "# --- 9. Class weights (optional, bisa dicoba) ---\n",
    "# Kalau sudah SMOTE, class biasanya balance, bisa diabaikan atau dipakai untuk percobaan\n",
    "# class_weights_array = compute_class_weight(\n",
    "#     class_weight='balanced',\n",
    "#     classes=np.unique(y_train_resampled),\n",
    "#     y=y_train_resampled\n",
    "# )\n",
    "# class_weights = dict(enumerate(class_weights_array))\n",
    "\n",
    "# --- 10. Definisikan Attention Layer ---\n",
    "#class AttentionLayer(Layer):\n",
    "#    def __init__(self, **kwargs):\n",
    "#        super(AttentionLayer, self).__init__(**kwargs)\n",
    "\n",
    "#    def build(self, input_shape):\n",
    "#        self.W = self.add_weight(name='att_weight', shape=(input_shape[-1], 1),\n",
    "#                                 initializer='random_normal', trainable=True)\n",
    "#        self.b = self.add_weight(name='att_bias', shape=(input_shape[1], 1),\n",
    "#                                 initializer='zeros', trainable=True)\n",
    "#        super(AttentionLayer, self).build(input_shape)\n",
    "\n",
    "#    def call(self, inputs):\n",
    "#        e = K.tanh(K.dot(inputs, self.W) + self.b)\n",
    "#        a = K.softmax(e, axis=1)\n",
    "#        output = K.sum(inputs * a, axis=1)\n",
    "#        return output\n",
    "\n",
    "# --- 11. Buat model CNN-LSTM dengan Attention ---\n",
    "model = Sequential()\n",
    "model.add(Conv1D(128, kernel_size=5, activation='relu', input_shape=(X_train.shape[1], X_train.shape[2])))\n",
    "model.add(MaxPooling1D(pool_size=2))\n",
    "model.add(LSTM(64, return_sequences=False))\n",
    "model.add(Dropout(0.5))  \n",
    "# model.add(AttentionLayer())\n",
    "model.add(Dense(64, activation='relu'))\n",
    "model.add(Dropout(0.5))\n",
    "model.add(Dense(num_classes, activation='softmax'))\n",
    "\n",
    "from tensorflow.keras.optimizers import Adam\n",
    "\n",
    "optimizer = Adam(learning_rate=0.001)\n",
    "model.compile(loss='categorical_crossentropy', optimizer=optimizer, metrics=['accuracy'])\n",
    "model.summary()\n",
    "\n",
    "# --- 12. Callbacks untuk training ---\n",
    "from tensorflow.keras.callbacks import EarlyStopping, ModelCheckpoint\n",
    "\n",
    "early_stopping = EarlyStopping(monitor='val_loss', patience=10, restore_best_weights=True)\n",
    "model_checkpoint = ModelCheckpoint('best_model.keras', save_best_only=True, monitor='val_loss')\n",
    "\n",
    "# --- 13. Training ---\n",
    "history = model.fit(\n",
    "    X_train_resampled, y_train_cat,\n",
    "    epochs=50,\n",
    "    batch_size=64,\n",
    "    validation_split=0.2,\n",
    "    callbacks=[early_stopping, model_checkpoint],\n",
    "    verbose=1\n",
    ")\n",
    "\n",
    "# --- 14. Visualisasi training ---\n",
    "plt.figure(figsize=(12, 4))\n",
    "\n",
    "plt.subplot(1, 2, 1)\n",
    "plt.plot(history.history['accuracy'], label='Akurasi Train')\n",
    "plt.plot(history.history['val_accuracy'], label='Akurasi Val')\n",
    "plt.title('Akurasi')\n",
    "plt.legend()\n",
    "\n",
    "plt.subplot(1, 2, 2)\n",
    "plt.plot(history.history['loss'], label='Loss Train')\n",
    "plt.plot(history.history['val_loss'], label='Loss Val')\n",
    "plt.title('Loss')\n",
    "plt.legend()\n",
    "\n",
    "plt.tight_layout()\n",
    "plt.show()\n",
    "\n",
    "# --- 15. Evaluasi model ---\n",
    "y_pred = model.predict(X_test)\n",
    "y_pred_class = np.argmax(y_pred, axis=1)\n",
    "y_true = np.argmax(y_test_cat, axis=1)\n",
    "\n",
    "print(\"=== Classification Report ===\")\n",
    "print(classification_report(y_true, y_pred_class, target_names=label_encoder.classes_))\n",
    "\n",
    "# --- 16. Confusion Matrix ---\n",
    "plt.figure(figsize=(8, 6))\n",
    "cm = confusion_matrix(y_true, y_pred_class)\n",
    "sns.heatmap(cm, annot=True, fmt='d', cmap='Blues',\n",
    "            xticklabels=label_encoder.classes_,\n",
    "            yticklabels=label_encoder.classes_)\n",
    "plt.xlabel(\"Prediksi\")\n",
    "plt.ylabel(\"Sebenarnya\")\n",
    "plt.title(\"Confusion Matrix\")\n",
    "plt.tight_layout()\n",
    "plt.show()\n"
   ]
  },
  {
   "cell_type": "code",
   "execution_count": 5,
   "id": "b5a1c30f-4799-4d17-8740-3b5c4b594cff",
   "metadata": {},
   "outputs": [],
   "source": [
    "X_train_resampled = X_train_resampled.reshape((-1, X_train_shape[1], X_train_shape[2]))\n"
   ]
  },
  {
   "cell_type": "code",
   "execution_count": 7,
   "id": "fcae60ad-5a96-40cb-9b39-c2c3ba89882c",
   "metadata": {},
   "outputs": [
    {
     "name": "stdout",
     "output_type": "stream",
     "text": [
      "\n",
      "=== Statistik Setelah Undersampling ===\n",
      "Jumlah data setelah undersampling: 210\n",
      "ambil barang: 14 (6.67%)\n",
      "diri: 14 (6.67%)\n",
      "diri-duduk: 14 (6.67%)\n",
      "duduk: 14 (6.67%)\n",
      "duduk-diri: 14 (6.67%)\n",
      "jalan: 14 (6.67%)\n",
      "jatuh: 14 (6.67%)\n",
      "lari: 14 (6.67%)\n",
      "lompat: 14 (6.67%)\n",
      "naik tangga: 14 (6.67%)\n",
      "pushup: 14 (6.67%)\n",
      "senderan: 14 (6.67%)\n",
      "situp: 14 (6.67%)\n",
      "tidur: 14 (6.67%)\n",
      "turun tangga: 14 (6.67%)\n"
     ]
    }
   ],
   "source": [
    "# --- Statistik Setelah Undersampling ---\n",
    "print(\"\\n=== Statistik Setelah Undersampling ===\")\n",
    "total_resampled = len(X_train_resampled)\n",
    "print(f\"Jumlah data setelah undersampling: {total_resampled}\")\n",
    "\n",
    "resampled_counts = pd.Series(y_train_resampled).value_counts()\n",
    "for i, count in resampled_counts.items():\n",
    "    label = label_encoder.inverse_transform([i])[0]\n",
    "    percent = (count / total_resampled) * 100\n",
    "    print(f\"{label}: {count} ({percent:.2f}%)\")\n"
   ]
  },
  {
   "cell_type": "code",
   "execution_count": 9,
   "id": "4db0e307-01f9-47e5-a714-6816d075ee5e",
   "metadata": {},
   "outputs": [
    {
     "name": "stdout",
     "output_type": "stream",
     "text": [
      "Label Classes: ['ambil barang' 'diri' 'diri-duduk' 'duduk' 'duduk-diri' 'jalan' 'jatuh'\n",
      " 'lari' 'lompat' 'naik tangga' 'pushup' 'senderan' 'situp' 'tidur'\n",
      " 'turun tangga']\n",
      "Encoded Labels: [ 0  1  2  3  4  5  6  7  8  9 10 11 12 13 14]\n"
     ]
    }
   ],
   "source": [
    "print(\"Label Classes:\", label_encoder.classes_)\n",
    "print(\"Encoded Labels:\", np.unique(y_encoded))\n"
   ]
  },
  {
   "cell_type": "code",
   "execution_count": 47,
   "id": "1840d21e-30bd-45c9-843e-73ef763302a4",
   "metadata": {},
   "outputs": [
    {
     "name": "stdout",
     "output_type": "stream",
     "text": [
      "Distribusi label train: (array([0, 1, 2, 3, 4, 5], dtype=int64), array([188, 182,  57,  13,  45, 188], dtype=int64))\n",
      "Distribusi label test: (array([0, 1, 2, 3, 4, 5], dtype=int64), array([47, 46, 14,  3, 12, 47], dtype=int64))\n"
     ]
    }
   ],
   "source": [
    "print(\"Distribusi label train:\", np.unique(y_train, return_counts=True))\n",
    "print(\"Distribusi label test:\", np.unique(y_test, return_counts=True))\n"
   ]
  },
  {
   "cell_type": "code",
   "execution_count": 49,
   "id": "886ab1d1-9f54-4c46-90c4-0b56d16a49cc",
   "metadata": {},
   "outputs": [
    {
     "data": {
      "text/plain": [
       "['label_encoder_new_6act.pkl']"
      ]
     },
     "execution_count": 49,
     "metadata": {},
     "output_type": "execute_result"
    }
   ],
   "source": [
    "# Simpan label encoder\n",
    "joblib.dump(label_encoder, 'label_encoder_new_6act.pkl')"
   ]
  },
  {
   "cell_type": "code",
   "execution_count": 51,
   "id": "1dcef152-aa68-448b-87a6-9e7a293dace6",
   "metadata": {},
   "outputs": [
    {
     "name": "stderr",
     "output_type": "stream",
     "text": [
      "WARNING:absl:You are saving your model as an HDF5 file via `model.save()` or `keras.saving.save_model(model)`. This file format is considered legacy. We recommend using instead the native Keras format, e.g. `model.save('my_model.keras')` or `keras.saving.save_model(model, 'my_model.keras')`. \n"
     ]
    },
    {
     "name": "stdout",
     "output_type": "stream",
     "text": [
      "✅ Model disimpan ke model_cnn_lstm_attention_6act.h5\n"
     ]
    }
   ],
   "source": [
    "# Simpan model CNN-LSTM dengan attention\n",
    "model.save(\"model_cnn_lstm_attention_new_6act.h5\")\n",
    "print(\"✅ Model disimpan ke model_cnn_lstm_attention_6act.h5\")\n"
   ]
  },
  {
   "cell_type": "code",
   "execution_count": null,
   "id": "582b5bb7-6dda-4e78-bfa4-d39c9a01bc3f",
   "metadata": {},
   "outputs": [],
   "source": []
  }
 ],
 "metadata": {
  "kernelspec": {
   "display_name": "Python [conda env:base] *",
   "language": "python",
   "name": "conda-base-py"
  },
  "language_info": {
   "codemirror_mode": {
    "name": "ipython",
    "version": 3
   },
   "file_extension": ".py",
   "mimetype": "text/x-python",
   "name": "python",
   "nbconvert_exporter": "python",
   "pygments_lexer": "ipython3",
   "version": "3.12.7"
  }
 },
 "nbformat": 4,
 "nbformat_minor": 5
}
